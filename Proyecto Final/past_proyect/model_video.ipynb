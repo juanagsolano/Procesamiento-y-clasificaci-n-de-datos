{
 "cells": [
  {
   "cell_type": "code",
   "execution_count": null,
   "metadata": {},
   "outputs": [],
   "source": [
    "import numpy as np\n",
    "import pandas as pd\n",
    "import matplotlib.pyplot as plt"
   ]
  },
  {
   "cell_type": "code",
   "execution_count": null,
   "metadata": {},
   "outputs": [],
   "source": [
    "import os\n",
    "\n",
    "classLabel = \"\"\n",
    "imagePath = []\n",
    "labels = []\n",
    "categories = {\"non-vehicles\": 0, \"vehicles\": 1}\n",
    "\n",
    "# Escanea los directores dentro de la carpeta dataset\n",
    "for dirname, _, filenames in os.walk(\"dataset/\"):\n",
    "    print(dirname)\n",
    "    if (dirname.split(\"/\")[-1] != \"dataset\"):\n",
    "        classLabel = dirname.split(\"/\")[-1]\n",
    "\n",
    "    for filename in filenames:\n",
    "        imagePath.append(dirname + \"/\" + filename)\n",
    "        labels.append(categories[classLabel])"
   ]
  },
  {
   "cell_type": "code",
   "execution_count": null,
   "metadata": {},
   "outputs": [],
   "source": []
  }
 ],
 "metadata": {
  "kernelspec": {
   "display_name": "Python 3.9.2 64-bit",
   "language": "python",
   "name": "python3"
  },
  "language_info": {
   "name": "python",
   "version": "3.9.2"
  },
  "orig_nbformat": 4,
  "vscode": {
   "interpreter": {
    "hash": "9e1205fd5f87b841d3262e7b7a22eaa5e88da30ef6fab0c6fe16f9d682804cf1"
   }
  }
 },
 "nbformat": 4,
 "nbformat_minor": 2
}
