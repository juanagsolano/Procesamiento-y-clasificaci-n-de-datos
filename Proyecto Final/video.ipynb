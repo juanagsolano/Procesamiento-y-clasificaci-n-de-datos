{
 "cells": [
  {
   "cell_type": "code",
   "execution_count": 2,
   "metadata": {},
   "outputs": [],
   "source": [
    "from datetime import timedelta\n",
    "import cv2\n",
    "import numpy as np\n",
    "import os"
   ]
  },
  {
   "cell_type": "code",
   "execution_count": 3,
   "metadata": {},
   "outputs": [],
   "source": [
    "def format_timedelta(td):\n",
    "    \"\"\"Funcion para formatear objetos timedelta (e.g 00:00:20.05)\n",
    "    omite microsegundos y se mantiente en milisegundos.\n",
    "\n",
    "    Args:\n",
    "        td (timedelta): objeto timedelta.\n",
    "\n",
    "    Returns:\n",
    "        str: tiempo formateado.\n",
    "    \"\"\"\n",
    "    result = str(td)\n",
    "    try:\n",
    "        result, ms = result.split(\".\")\n",
    "    except ValueError:\n",
    "        return result + \".00\".replace(\":\",\"-\")\n",
    "    ms = int(ms)\n",
    "    ms = round(ms / 1e4)\n",
    "    return f\"{result}.{ms:02}\".replace(\":\",\"-\")"
   ]
  },
  {
   "cell_type": "code",
   "execution_count": 4,
   "metadata": {},
   "outputs": [],
   "source": [
    "def get_saving_frames_durations(cap, saving_fps):\n",
    "    \"\"\"Funcion que retorna una lista de duraciones para\n",
    "    guardar los fotogramas.\n",
    "\n",
    "    Args:\n",
    "        cap (VideoCapture): Video en formaro VideoCapture de OpenCV.\n",
    "        saving_fps (_type_): _description_\n",
    "\n",
    "    Returns:\n",
    "        _type_: _description_\n",
    "    \"\"\"\n",
    "    s = []\n",
    "    clip_duration = cap.get(cv2.CAP_PROP_FRAME_COUNT) / \\\n",
    "        cap.get(cv2.CAP_PROP_FPS)\n",
    "\n",
    "    for i in np.arange(0, clip_duration, 1 / saving_fps):\n",
    "        s.append(i)\n",
    "\n",
    "    return s"
   ]
  },
  {
   "cell_type": "code",
   "execution_count": 5,
   "metadata": {},
   "outputs": [],
   "source": [
    "def main(video_file):\n",
    "    filename, _ = os.path.splitext(video_file)\n",
    "    filename += \"-opencv\"\n",
    "    # make a folder by the name of the video file\n",
    "    if not os.path.isdir(filename):\n",
    "        os.mkdir(filename)\n",
    "    # read the video file\n",
    "    cap = cv2.VideoCapture(video_file)\n",
    "    # get the FPS of the video\n",
    "    fps = cap.get(cv2.CAP_PROP_FPS)\n",
    "    # if the SAVING_FRAMES_PER_SECOND is above video FPS, then set it to FPS (as maximum)\n",
    "    saving_frames_per_second = min(fps, SAVING_FRAMES_PER_SECOND)\n",
    "    # get the list of duration spots to save\n",
    "    saving_frames_durations = get_saving_frames_durations(\n",
    "        cap, saving_frames_per_second)\n",
    "    # start the loop\n",
    "    count = 0\n",
    "    while True:\n",
    "        is_read, frame = cap.read()\n",
    "        if not is_read:\n",
    "            # break out of the loop if there are no frames to read\n",
    "            break\n",
    "        # get the duration by dividing the frame count by the FPS\n",
    "        frame_duration = count / fps\n",
    "        try:\n",
    "            # get the earliest duration to save\n",
    "            closest_duration = saving_frames_durations[0]\n",
    "        except IndexError:\n",
    "            # the list is empty, all duration frames were saved\n",
    "            break\n",
    "        if frame_duration >= closest_duration:\n",
    "            # if closest duration is less than or equals the frame duration,\n",
    "            # then save the frame\n",
    "            frame_duration_formatted = format_timedelta(\n",
    "                timedelta(seconds=frame_duration))\n",
    "            cv2.imwrite(os.path.join(\n",
    "                filename, f\"frame{frame_duration_formatted}.jpg\"), frame)\n",
    "            # drop the duration spot from the list, since this duration spot is already saved\n",
    "            try:\n",
    "                saving_frames_durations.pop(0)\n",
    "            except IndexError:\n",
    "                pass\n",
    "        # increment the frame count\n",
    "        count += 1\n"
   ]
  },
  {
   "cell_type": "code",
   "execution_count": null,
   "metadata": {},
   "outputs": [],
   "source": [
    "SAVING_FRAMES_PER_SECOND = 10\n",
    "\n",
    "main(\"video_muestra.mp4\")"
   ]
  }
 ],
 "metadata": {
  "kernelspec": {
   "display_name": "Python 3.9.2 64-bit",
   "language": "python",
   "name": "python3"
  },
  "language_info": {
   "codemirror_mode": {
    "name": "ipython",
    "version": 3
   },
   "file_extension": ".py",
   "mimetype": "text/x-python",
   "name": "python",
   "nbconvert_exporter": "python",
   "pygments_lexer": "ipython3",
   "version": "3.9.2"
  },
  "orig_nbformat": 4,
  "vscode": {
   "interpreter": {
    "hash": "9e1205fd5f87b841d3262e7b7a22eaa5e88da30ef6fab0c6fe16f9d682804cf1"
   }
  }
 },
 "nbformat": 4,
 "nbformat_minor": 2
}
